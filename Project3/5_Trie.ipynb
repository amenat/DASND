{
 "cells": [
  {
   "cell_type": "markdown",
   "metadata": {},
   "source": [
    "## Explanation for Trie autocomplete\n",
    "\n",
    "`find()` and `insert()` take $\\mathcal{O}(n)$ time where $n$ is length of string being passed on to the function.  \n",
    "\n",
    "Worst case space complexity is $\\displaystyle \\mathcal{O}\\left(\\sum_{word \\in Trie} |word|\\right)$ as in sum of length of all words when all words are distinct and share no common prefix.   "
   ]
  },
  {
   "cell_type": "code",
   "execution_count": 1,
   "metadata": {},
   "outputs": [],
   "source": [
    "from collections import defaultdict\n",
    "from typing import List, Union\n",
    "\n",
    "## Represents a single node in the Trie\n",
    "class TrieNode:\n",
    "    def __init__(self) -> None:\n",
    "        ## Initialize this node in the Trie\n",
    "        self.children = defaultdict(TrieNode)\n",
    "        self.is_word = False\n",
    "        \n",
    "    def suffixes(self, suffix: str = '') -> List[str]:\n",
    "        ## Recursive function that collects the suffix for \n",
    "        ## all complete words below this point\n",
    "        \n",
    "        suff_list = []\n",
    "        \n",
    "        # if current word is a word add it to list\n",
    "        if self.is_word:\n",
    "            suff_list.append(suffix)\n",
    "            \n",
    "        for char in self.children:\n",
    "            suff_list.extend(self.children[char].suffixes(suffix=suffix+char))\n",
    "        \n",
    "        return suff_list\n",
    "        \n",
    "## The Trie itself containing the root node and insert/find functions\n",
    "class Trie:\n",
    "    def __init__(self) -> None:\n",
    "        ## Initialize this Trie (add a root node)\n",
    "        self.root = TrieNode()\n",
    "\n",
    "    def insert(self, word: str) -> None:\n",
    "        if not isinstance(word, str):\n",
    "            print('Error: Trie can on only insert strings')\n",
    "            return\n",
    "        ## Add a word to the Trie\n",
    "        ptr = self.root\n",
    "        \n",
    "        for char in word:\n",
    "            ptr = ptr.children[char]\n",
    "        \n",
    "        ptr.is_word = True\n",
    "        \n",
    "\n",
    "    def find(self, prefix: str) -> TrieNode:\n",
    "        ## Find the Trie node that represents this prefix\n",
    "        if not isinstance(word, str):\n",
    "            print('Error: Trie can on search insert strings')\n",
    "            return\n",
    "        \n",
    "        ptr = self.root\n",
    "        \n",
    "        for char in prefix:\n",
    "            if char not in ptr.children:\n",
    "                return False\n",
    "            ptr = ptr.children[char]\n",
    "        \n",
    "        return ptr"
   ]
  },
  {
   "cell_type": "code",
   "execution_count": 2,
   "metadata": {},
   "outputs": [],
   "source": [
    "MyTrie = Trie()\n",
    "\n",
    "# this wordlist tests, multiple common prefixes, empty strings etc.\n",
    "wordList = [\n",
    "    \"ant\", \"anthology\", \"antagonist\", \"antonym\", \n",
    "    \"fun\", \"function\", \"factory\",\n",
    "    \"trie\", \"trigger\", \"trigonometry\", \"tripod\", \n",
    "    \"\", \n",
    "    \"udacity\", \"university\", \n",
    "    \"edx\", \"coursera\", \"education\", \"coursehero\"\n",
    "]\n",
    "\n",
    "for word in wordList:\n",
    "    MyTrie.insert(word)"
   ]
  },
  {
   "cell_type": "code",
   "execution_count": 3,
   "metadata": {},
   "outputs": [
    {
     "data": {
      "application/vnd.jupyter.widget-view+json": {
       "model_id": "66b019e926204513b65ebc2852d8415c",
       "version_major": 2,
       "version_minor": 0
      },
      "text/plain": [
       "interactive(children=(Text(value='', description='prefix'), Output()), _dom_classes=('widget-interact',))"
      ]
     },
     "metadata": {},
     "output_type": "display_data"
    }
   ],
   "source": [
    "from ipywidgets import widgets\n",
    "from IPython.display import display\n",
    "from ipywidgets import interact\n",
    "def f(prefix):\n",
    "    if prefix != '':\n",
    "        prefixNode = MyTrie.find(prefix)\n",
    "        if prefixNode:\n",
    "            print('\\n'.join(prefixNode.suffixes()))\n",
    "        else:\n",
    "            print(prefix + \" not found\")\n",
    "    else:\n",
    "        print('')\n",
    "interact(f,prefix='');"
   ]
  },
  {
   "cell_type": "code",
   "execution_count": 4,
   "metadata": {},
   "outputs": [],
   "source": [
    "# Test 2: Google top 10k\n",
    "# Suggest word completion based on top 10k english words\n",
    "# source of text file: https://github.com/first20hours/google-10000-english/blob/master/google-10000-english.txt\n",
    "\n",
    "top10k = Trie()\n",
    "\n",
    "with open('google-10000-english.txt', 'r') as words:\n",
    "    wordList = words.read().splitlines()\n",
    "\n",
    "for word in wordList:\n",
    "    top10k.insert(word)\n"
   ]
  },
  {
   "cell_type": "code",
   "execution_count": 5,
   "metadata": {},
   "outputs": [
    {
     "data": {
      "application/vnd.jupyter.widget-view+json": {
       "model_id": "1a7b9ea63d3f444886cf959c792579c1",
       "version_major": 2,
       "version_minor": 0
      },
      "text/plain": [
       "interactive(children=(Text(value='', description='search10k'), Output()), _dom_classes=('widget-interact',))"
      ]
     },
     "metadata": {},
     "output_type": "display_data"
    }
   ],
   "source": [
    "\n",
    "def f(search10k: str) -> List[str]:\n",
    "    search10k = search10k.lower()\n",
    "    if search10k != '':\n",
    "        prefixNode = top10k.find(search10k)\n",
    "        if prefixNode:\n",
    "            print('\\n'.join(map(lambda x: search10k + x, prefixNode.suffixes())))\n",
    "        else:\n",
    "            print(search10k + \" not found\")\n",
    "    else:\n",
    "        print('')\n",
    "interact(f,search10k='');"
   ]
  },
  {
   "cell_type": "code",
   "execution_count": null,
   "metadata": {},
   "outputs": [],
   "source": [
    "\n",
    "\n",
    "\n",
    "\n",
    "\n",
    "\n",
    "\n",
    "\n",
    "\n",
    "\n",
    "\n",
    "\n",
    "\n",
    "\n",
    "\n",
    "\n",
    "\n",
    "\n"
   ]
  },
  {
   "cell_type": "markdown",
   "metadata": {},
   "source": [
    "\n",
    "\n",
    "\n",
    "\n",
    "\n"
   ]
  }
 ],
 "metadata": {
  "kernelspec": {
   "display_name": "Python 3",
   "language": "python",
   "name": "python3"
  },
  "language_info": {
   "codemirror_mode": {
    "name": "ipython",
    "version": 3
   },
   "file_extension": ".py",
   "mimetype": "text/x-python",
   "name": "python",
   "nbconvert_exporter": "python",
   "pygments_lexer": "ipython3",
   "version": "3.7.4"
  },
  "widgets": {
   "state": {},
   "version": "1.1.2"
  }
 },
 "nbformat": 4,
 "nbformat_minor": 4
}
